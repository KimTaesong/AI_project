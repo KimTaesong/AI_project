{
  "nbformat": 4,
  "nbformat_minor": 0,
  "metadata": {
    "colab": {
      "name": "9. CNN.ipynb",
      "provenance": [],
      "collapsed_sections": [],
      "mount_file_id": "1JT3m5ueJzvs59NtQ240JnFegQSdaVNLQ",
      "authorship_tag": "ABX9TyOgckLjtzdU8J/yfw1ssoMj",
      "include_colab_link": true
    },
    "kernelspec": {
      "name": "python3",
      "display_name": "Python 3"
    }
  },
  "cells": [
    {
      "cell_type": "markdown",
      "metadata": {
        "id": "view-in-github",
        "colab_type": "text"
      },
      "source": [
        "<a href=\"https://colab.research.google.com/github/KimTaesong/AI_project/blob/master/9_CNN.ipynb\" target=\"_parent\"><img src=\"https://colab.research.google.com/assets/colab-badge.svg\" alt=\"Open In Colab\"/></a>"
      ]
    },
    {
      "cell_type": "code",
      "metadata": {
        "id": "Dnamp4HLkdoB",
        "colab_type": "code",
        "colab": {
          "base_uri": "https://localhost:8080/",
          "height": 447
        },
        "outputId": "834c4ea9-aaf6-4dc1-8fea-264d389c1afd"
      },
      "source": [
        "# Data loading\n",
        "from keras.utils import np_utils\n",
        "from keras.datasets import mnist\n",
        "from keras.models import Sequential\n",
        "from keras.layers import Dense, Activation\n",
        "import numpy as np\n",
        "from keras.preprocessing.image import ImageDataGenerator\n",
        "from keras.layers import Flatten\n",
        "from keras.layers.convolutional import Conv2D\n",
        "from keras.layers.convolutional import MaxPooling2D\n",
        "\n",
        "train_datagen = ImageDataGenerator (rescale=1./255)\n",
        "\n",
        "train_generator = train_datagen.flow_from_directory(\n",
        "    '/content/drive/My Drive/Colab Notebooks/handwriting_shape/train',\n",
        "    target_size =(24,24),\n",
        "    batch_size = 3, \n",
        "    class_mode ='categorical'\n",
        ")\n",
        "\n",
        "test_datagen = ImageDataGenerator (rescale=1./255)\n",
        "\n",
        "test_generator = test_datagen.flow_from_directory(\n",
        "    '/content/drive/My Drive/Colab Notebooks/handwriting_shape/test',\n",
        "    target_size =(24,24),\n",
        "    batch_size = 3, \n",
        "    class_mode ='categorical'\n",
        ")\n",
        "\n",
        "model = Sequential()\n",
        "model.add(Conv2D(2, (3, 3), padding='same', activation ='relu',input_shape =(24, 24,3)))\n",
        "model.add( MaxPooling2D(pool_size =(2,2)))\n",
        "model.add(Conv2D(2, (3, 3), padding='same', activation ='relu'))\n",
        "model.add( MaxPooling2D(pool_size =(2,2)))\n",
        "model.add(Flatten())\n",
        "model.add(Dense(8,  activation ='relu'))\n",
        "model.add(Dense(3,  activation ='softmax'))\n",
        "\n",
        "model.compile(loss='categorical_crossentropy', optimizer='adam', metrics=['accuracy'])\n",
        "model.fit_generator (generator=train_generator, epochs =10)\n",
        "model.evaluate_generator(generator=test_generator)\n",
        "\n",
        "# from IPython.display import SVG\n",
        "# from keras.utils.vis_utils import model_to_dot\n",
        "# %matplotlib inline\n",
        "# SVG(model_to_dot (model, show_shapes =True). prog ='dot',format=' svg)"
      ],
      "execution_count": null,
      "outputs": [
        {
          "output_type": "stream",
          "text": [
            "Found 45 images belonging to 3 classes.\n",
            "Found 15 images belonging to 3 classes.\n",
            "Epoch 1/10\n",
            "15/15 [==============================] - 0s 13ms/step - loss: 0.9829 - accuracy: 0.4444\n",
            "Epoch 2/10\n",
            "15/15 [==============================] - 0s 8ms/step - loss: 0.8157 - accuracy: 0.6889\n",
            "Epoch 3/10\n",
            "15/15 [==============================] - 0s 9ms/step - loss: 0.7257 - accuracy: 0.7778\n",
            "Epoch 4/10\n",
            "15/15 [==============================] - 0s 9ms/step - loss: 0.6373 - accuracy: 0.8889\n",
            "Epoch 5/10\n",
            "15/15 [==============================] - 0s 8ms/step - loss: 0.5619 - accuracy: 0.9111\n",
            "Epoch 6/10\n",
            "15/15 [==============================] - 0s 8ms/step - loss: 0.4864 - accuracy: 0.9333\n",
            "Epoch 7/10\n",
            "15/15 [==============================] - 0s 10ms/step - loss: 0.4287 - accuracy: 0.9333\n",
            "Epoch 8/10\n",
            "15/15 [==============================] - 0s 9ms/step - loss: 0.3736 - accuracy: 0.9333\n",
            "Epoch 9/10\n",
            "15/15 [==============================] - 0s 9ms/step - loss: 0.3460 - accuracy: 0.9556\n",
            "Epoch 10/10\n",
            "15/15 [==============================] - 0s 9ms/step - loss: 0.3005 - accuracy: 0.9556\n"
          ],
          "name": "stdout"
        },
        {
          "output_type": "execute_result",
          "data": {
            "text/plain": [
              "[0.9853598475456238, 0.800000011920929]"
            ]
          },
          "metadata": {
            "tags": []
          },
          "execution_count": 11
        }
      ]
    }
  ]
}