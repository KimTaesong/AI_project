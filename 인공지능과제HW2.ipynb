{
  "nbformat": 4,
  "nbformat_minor": 0,
  "metadata": {
    "colab": {
      "name": "인공지능과제HW2.ipynb",
      "provenance": [],
      "collapsed_sections": [],
      "mount_file_id": "1XaFwD54v-TBZTcu2jQxh2MWGtW9q97LD",
      "authorship_tag": "ABX9TyPJM5eikk5ntp9+SomNeB78",
      "include_colab_link": true
    },
    "kernelspec": {
      "name": "python3",
      "display_name": "Python 3"
    },
    "accelerator": "TPU"
  },
  "cells": [
    {
      "cell_type": "markdown",
      "metadata": {
        "id": "view-in-github",
        "colab_type": "text"
      },
      "source": [
        "<a href=\"https://colab.research.google.com/github/KimTaesong/AI_project/blob/master/%EC%9D%B8%EA%B3%B5%EC%A7%80%EB%8A%A5%EA%B3%BC%EC%A0%9CHW2.ipynb\" target=\"_parent\"><img src=\"https://colab.research.google.com/assets/colab-badge.svg\" alt=\"Open In Colab\"/></a>"
      ]
    },
    {
      "cell_type": "code",
      "metadata": {
        "id": "3XlwhWP8kWoy",
        "colab_type": "code",
        "colab": {}
      },
      "source": [
        "# 0 사용할 패키지 불러오기\n",
        "from keras.models import Sequential # 케라스의 Sequential()을 임포트\n",
        "from keras.layers import Dense, Activation # 케라스의 Dense()를 임포트\n",
        "from keras.utils import np_utils\n",
        "import numpy as np\n",
        "import pandas as pd\n",
        "import matplotlib.pyplot as plt\n",
        "from keras.layers import LSTM\n",
        "\n",
        "# 판다스로 csv파일을 읽어오기\n",
        "df= pd.read_csv(\"/content/drive/My Drive/Colab Notebooks/heartbeat_datasets.csv\")\n",
        "# csv 파일이 잘 읽히는지 확인\n",
        "print(df.values)\n",
        "# 데이터 파악\n",
        "print(df.values.shape)\n",
        "# 데이터는 총 270개 샘플로 구성되어져 있으며 988개의 열로 구성\n",
        "print(df)\n",
        "# 각 샘플의 인덱스는 986개의 시간별 심장박동률의 열과 심장의 상태를 나타내는 1개의 열이 있다.\n",
        "# Class열은 몇 가지 데이터로 구성되어져있는지 모든 데이터 종류출력\n",
        "print(\"Class 종류:\", df[\"Class\"].unique(), sep=\"\\n\")\n",
        "# Class열의 심장 데이터 구성 비율을 파악\n",
        "df['Class'].value_counts().plot(kind='bar')"
      ],
      "execution_count": null,
      "outputs": []
    },
    {
      "cell_type": "code",
      "metadata": {
        "id": "dipXnhl1asm3",
        "colab_type": "code",
        "colab": {
          "base_uri": "https://localhost:8080/",
          "height": 281
        },
        "outputId": "c77df84f-0edb-4dae-98c3-867e101ebc8e"
      },
      "source": [
        "df['Class'] = df['Class'].replace(['Baseline', 'VT', 'VF'],[0,1,2])\n",
        "# Baseline은 0 VT는 1 VF는 2로 변환해서 코딩.\n",
        "df['Class'].value_counts().plot(kind='bar')\n",
        "#데이터의 분포가 Baseline, VT, VF의 비율이 일정하지 않음"
      ],
      "execution_count": null,
      "outputs": [
        {
          "output_type": "execute_result",
          "data": {
            "text/plain": [
              "<matplotlib.axes._subplots.AxesSubplot at 0x7f096f5ac940>"
            ]
          },
          "metadata": {
            "tags": []
          },
          "execution_count": 67
        },
        {
          "output_type": "display_data",
          "data": {
            "image/png": "[encoded data removed]",
            "text/plain": [
              "<Figure size 432x288 with 1 Axes>"
            ]
          },
          "metadata": {
            "tags": [],
            "needs_background": "light"
          }
        }
      ]
    },
    {
      "cell_type": "code",
      "metadata": {
        "id": "EfyHGvwZpUY_",
        "colab_type": "code",
        "colab": {
          "base_uri": "https://localhost:8080/",
          "height": 140
        },
        "outputId": "b02801da-0de5-4c78-afa8-45ece1188882"
      },
      "source": [
        "# 랜덤시드 고정시키기\n",
        "np.random.seed(5)\n",
        "\n",
        "# 1 데이터 준비하기\n",
        "mah_np_array = df.values\n",
        "dataset = mah_np_array\n",
        "print(dataset)"
      ],
      "execution_count": null,
      "outputs": [
        {
          "output_type": "stream",
          "text": [
            "[[   3  970  970 ...  950  950    0]\n",
            " [   3  730  760 ...  240  240    1]\n",
            " [   3  620  940 ...  700  700    0]\n",
            " ...\n",
            " [8079  820  490 ...  270  280    1]\n",
            " [8096 1080 1070 ... 1200 1170    0]\n",
            " [8096  740  740 ...  320  290    1]]\n"
          ],
          "name": "stdout"
        }
      ]
    },
    {
      "cell_type": "code",
      "metadata": {
        "id": "I0SUDfeqYeaD",
        "colab_type": "code",
        "colab": {
          "base_uri": "https://localhost:8080/",
          "height": 228
        },
        "outputId": "910ed68a-2a14-40aa-d000-9fbaaffd5d70"
      },
      "source": [
        "#2 데이터셋 생성하기\n",
        "\n",
        "# Training and testing dataset 분리, 필요시 validation dataset 분리\n",
        "\n",
        "# Training dataset\n",
        "x_train = dataset[0:200,1:-1]\n",
        "# print(x_train)\n",
        "y_train = dataset[0:200,-1]\n",
        "print(y_train)\n",
        "# print(y_train)\n",
        "\n",
        "# Validation dataset\n",
        "x_val = dataset[250:,1:-1]\n",
        "y_val = dataset[250:,-1]\n",
        "# print(x_val)\n",
        "# testing dataset\n",
        "x_test = dataset[200:250,1:-1]\n",
        "y_test = dataset[200:250,-1]\n",
        "# print(y_train, y_val, y_test)\n",
        "# 모델 변경, shape을 다시 잡아줌\n",
        "# reshape for lstm\n",
        "x_train = np.reshape(x_train,(len(x_train), 986, 1))\n",
        "x_val = np.reshape(x_val,(len(x_val), 986, 1))\n",
        "x_test = np.reshape(x_test,(len(x_test), 986, 1))\n",
        "\n",
        "\n",
        "# 라벨링 전환\n",
        "y_train = np_utils.to_categorical(y_train)\n",
        "y_val = np_utils.to_categorical(y_val)\n",
        "y_test = np_utils.to_categorical(y_test)\n",
        "\n",
        "print(x_train.shape)\n",
        "print(y_train.shape)\n",
        "print(x_val.shape)\n",
        "print(y_val.shape)\n",
        "print(x_test.shape)\n",
        "print(y_test.shape)"
      ],
      "execution_count": 146,
      "outputs": [
        {
          "output_type": "stream",
          "text": [
            "[0 1 0 1 0 1 0 1 0 1 0 1 0 1 0 1 0 1 0 1 0 1 0 1 0 2 0 1 0 2 0 2 0 1 0 1 0\n",
            " 1 0 1 0 1 0 1 0 1 0 1 0 1 0 1 0 1 0 1 0 1 0 2 0 1 0 1 0 2 0 1 0 1 0 1 0 2\n",
            " 0 2 0 1 0 1 0 1 0 1 0 1 0 1 0 1 0 2 0 2 0 1 0 1 0 1 0 1 0 2 0 1 0 1 0 2 0\n",
            " 1 0 1 0 1 0 1 0 1 0 2 0 1 0 2 0 1 0 1 0 1 0 1 0 1 0 1 0 1 0 1 0 1 0 1 0 1\n",
            " 0 1 0 1 0 2 0 2 0 1 0 2 0 1 0 2 0 1 0 2 0 2 0 2 0 2 0 1 0 1 0 2 0 2 0 1 0\n",
            " 1 0 1 0 1 0 1 0 2 0 1 0 1 0 1]\n",
            "(200, 986, 1)\n",
            "(200, 3)\n",
            "(20, 986, 1)\n",
            "(20, 3)\n",
            "(50, 986, 1)\n",
            "(50, 3)\n"
          ],
          "name": "stdout"
        }
      ]
    },
    {
      "cell_type": "code",
      "metadata": {
        "id": "7Rpwkj4r-jnu",
        "colab_type": "code",
        "colab": {
          "base_uri": "https://localhost:8080/",
          "height": 298
        },
        "outputId": "528b9d2b-62bf-4cea-ad86-9802c4310f56"
      },
      "source": [
        "#3. 모델 구성하기\n",
        "model = Sequential()\n",
        "#LSTM의 활성화함수 디폴트: 탄젠트 하이퍼볼릭 함수, relu를 써도 되지만 결과가 좋지 않음\n",
        "model.add( LSTM(32, input_shape=(986,1)))\n",
        "model.add( Dense(32,activation='relu'))\n",
        "model.add( Dense(8,activation='relu'))\n",
        "model.add(Dense(y_train.shape[1], activation= 'softmax'))\n",
        "model.summary()"
      ],
      "execution_count": 154,
      "outputs": [
        {
          "output_type": "stream",
          "text": [
            "Model: \"sequential_22\"\n",
            "_________________________________________________________________\n",
            "Layer (type)                 Output Shape              Param #   \n",
            "=================================================================\n",
            "lstm_22 (LSTM)               (None, 32)                4352      \n",
            "_________________________________________________________________\n",
            "dense_60 (Dense)             (None, 32)                1056      \n",
            "_________________________________________________________________\n",
            "dense_61 (Dense)             (None, 8)                 264       \n",
            "_________________________________________________________________\n",
            "dense_62 (Dense)             (None, 3)                 27        \n",
            "=================================================================\n",
            "Total params: 5,699\n",
            "Trainable params: 5,699\n",
            "Non-trainable params: 0\n",
            "_________________________________________________________________\n"
          ],
          "name": "stdout"
        }
      ]
    },
    {
      "cell_type": "code",
      "metadata": {
        "id": "v9TQaNcQkVy0",
        "colab_type": "code",
        "colab": {
          "base_uri": "https://localhost:8080/",
          "height": 449
        },
        "outputId": "8b62b254-19a4-454e-e2a8-647358e431df"
      },
      "source": [
        "model.compile(loss='categorical_crossentropy', optimizer='adam', metrics=['accuracy'])\n",
        "# 모델 시각화\n",
        "from IPython.display import SVG\n",
        "from keras.utils.vis_utils import model_to_dot\n",
        "%matplotlib inline\n",
        "SVG(model_to_dot(model, show_shapes=True, dpi = 60).create(prog='dot', format='svg'))"
      ],
      "execution_count": 148,
      "outputs": [
        {
          "output_type": "execute_result",
          "data": {
            "text/plain": [
              "<IPython.core.display.SVG object>"
            ],
            "image/svg+xml": "<svg height=\"322pt\" viewBox=\"0.00 0.00 340.00 387.00\" width=\"283pt\" xmlns=\"http://www.w3.org/2000/svg\" xmlns:xlink=\"http://www.w3.org/1999/xlink\">\n<g class=\"graph\" id=\"graph0\" transform=\"scale(.8333 .8333) rotate(0) translate(4 383)\">\n<title>G</title>\n<polygon fill=\"#ffffff\" points=\"-4,4 -4,-383 336,-383 336,4 -4,4\" stroke=\"transparent\"/>\n<!-- 139678407170704 -->\n<g class=\"node\" id=\"node1\">\n<title>139678407170704</title>\n<polygon fill=\"none\" points=\"0,-332.5 0,-378.5 332,-378.5 332,-332.5 0,-332.5\" stroke=\"#000000\"/>\n<text fill=\"#000000\" font-family=\"Times,serif\" font-size=\"14.00\" text-anchor=\"middle\" x=\"86\" y=\"-351.8\">lstm_21_input: InputLayer</text>\n<polyline fill=\"none\" points=\"172,-332.5 172,-378.5 \" stroke=\"#000000\"/>\n<text fill=\"#000000\" font-family=\"Times,serif\" font-size=\"14.00\" text-anchor=\"middle\" x=\"201\" y=\"-363.3\">input:</text>\n<polyline fill=\"none\" points=\"172,-355.5 230,-355.5 \" stroke=\"#000000\"/>\n<text fill=\"#000000\" font-family=\"Times,serif\" font-size=\"14.00\" text-anchor=\"middle\" x=\"201\" y=\"-340.3\">output:</text>\n<polyline fill=\"none\" points=\"230,-332.5 230,-378.5 \" stroke=\"#000000\"/>\n<text fill=\"#000000\" font-family=\"Times,serif\" font-size=\"14.00\" text-anchor=\"middle\" x=\"281\" y=\"-363.3\">(None, 986, 1)</text>\n<polyline fill=\"none\" points=\"230,-355.5 332,-355.5 \" stroke=\"#000000\"/>\n<text fill=\"#000000\" font-family=\"Times,serif\" font-size=\"14.00\" text-anchor=\"middle\" x=\"281\" y=\"-340.3\">(None, 986, 1)</text>\n</g>\n<!-- 139678407170200 -->\n<g class=\"node\" id=\"node2\">\n<title>139678407170200</title>\n<polygon fill=\"none\" points=\"31,-249.5 31,-295.5 301,-295.5 301,-249.5 31,-249.5\" stroke=\"#000000\"/>\n<text fill=\"#000000\" font-family=\"Times,serif\" font-size=\"14.00\" text-anchor=\"middle\" x=\"86\" y=\"-268.8\">lstm_21: LSTM</text>\n<polyline fill=\"none\" points=\"141,-249.5 141,-295.5 \" stroke=\"#000000\"/>\n<text fill=\"#000000\" font-family=\"Times,serif\" font-size=\"14.00\" text-anchor=\"middle\" x=\"170\" y=\"-280.3\">input:</text>\n<polyline fill=\"none\" points=\"141,-272.5 199,-272.5 \" stroke=\"#000000\"/>\n<text fill=\"#000000\" font-family=\"Times,serif\" font-size=\"14.00\" text-anchor=\"middle\" x=\"170\" y=\"-257.3\">output:</text>\n<polyline fill=\"none\" points=\"199,-249.5 199,-295.5 \" stroke=\"#000000\"/>\n<text fill=\"#000000\" font-family=\"Times,serif\" font-size=\"14.00\" text-anchor=\"middle\" x=\"250\" y=\"-280.3\">(None, 986, 1)</text>\n<polyline fill=\"none\" points=\"199,-272.5 301,-272.5 \" stroke=\"#000000\"/>\n<text fill=\"#000000\" font-family=\"Times,serif\" font-size=\"14.00\" text-anchor=\"middle\" x=\"250\" y=\"-257.3\">(None, 32)</text>\n</g>\n<!-- 139678407170704&#45;&gt;139678407170200 -->\n<g class=\"edge\" id=\"edge1\">\n<title>139678407170704-&gt;139678407170200</title>\n<path d=\"M166,-332.3799C166,-324.1745 166,-314.7679 166,-305.8786\" fill=\"none\" stroke=\"#000000\"/>\n<polygon fill=\"#000000\" points=\"169.5001,-305.784 166,-295.784 162.5001,-305.784 169.5001,-305.784\" stroke=\"#000000\"/>\n</g>\n<!-- 139678413647656 -->\n<g class=\"node\" id=\"node3\">\n<title>139678413647656</title>\n<polygon fill=\"none\" points=\"40,-166.5 40,-212.5 292,-212.5 292,-166.5 40,-166.5\" stroke=\"#000000\"/>\n<text fill=\"#000000\" font-family=\"Times,serif\" font-size=\"14.00\" text-anchor=\"middle\" x=\"97\" y=\"-185.8\">dense_57: Dense</text>\n<polyline fill=\"none\" points=\"154,-166.5 154,-212.5 \" stroke=\"#000000\"/>\n<text fill=\"#000000\" font-family=\"Times,serif\" font-size=\"14.00\" text-anchor=\"middle\" x=\"183\" y=\"-197.3\">input:</text>\n<polyline fill=\"none\" points=\"154,-189.5 212,-189.5 \" stroke=\"#000000\"/>\n<text fill=\"#000000\" font-family=\"Times,serif\" font-size=\"14.00\" text-anchor=\"middle\" x=\"183\" y=\"-174.3\">output:</text>\n<polyline fill=\"none\" points=\"212,-166.5 212,-212.5 \" stroke=\"#000000\"/>\n<text fill=\"#000000\" font-family=\"Times,serif\" font-size=\"14.00\" text-anchor=\"middle\" x=\"252\" y=\"-197.3\">(None, 32)</text>\n<polyline fill=\"none\" points=\"212,-189.5 292,-189.5 \" stroke=\"#000000\"/>\n<text fill=\"#000000\" font-family=\"Times,serif\" font-size=\"14.00\" text-anchor=\"middle\" x=\"252\" y=\"-174.3\">(None, 32)</text>\n</g>\n<!-- 139678407170200&#45;&gt;139678413647656 -->\n<g class=\"edge\" id=\"edge2\">\n<title>139678407170200-&gt;139678413647656</title>\n<path d=\"M166,-249.3799C166,-241.1745 166,-231.7679 166,-222.8786\" fill=\"none\" stroke=\"#000000\"/>\n<polygon fill=\"#000000\" points=\"169.5001,-222.784 166,-212.784 162.5001,-222.784 169.5001,-222.784\" stroke=\"#000000\"/>\n</g>\n<!-- 139678407171096 -->\n<g class=\"node\" id=\"node4\">\n<title>139678407171096</title>\n<polygon fill=\"none\" points=\"40,-83.5 40,-129.5 292,-129.5 292,-83.5 40,-83.5\" stroke=\"#000000\"/>\n<text fill=\"#000000\" font-family=\"Times,serif\" font-size=\"14.00\" text-anchor=\"middle\" x=\"97\" y=\"-102.8\">dense_58: Dense</text>\n<polyline fill=\"none\" points=\"154,-83.5 154,-129.5 \" stroke=\"#000000\"/>\n<text fill=\"#000000\" font-family=\"Times,serif\" font-size=\"14.00\" text-anchor=\"middle\" x=\"183\" y=\"-114.3\">input:</text>\n<polyline fill=\"none\" points=\"154,-106.5 212,-106.5 \" stroke=\"#000000\"/>\n<text fill=\"#000000\" font-family=\"Times,serif\" font-size=\"14.00\" text-anchor=\"middle\" x=\"183\" y=\"-91.3\">output:</text>\n<polyline fill=\"none\" points=\"212,-83.5 212,-129.5 \" stroke=\"#000000\"/>\n<text fill=\"#000000\" font-family=\"Times,serif\" font-size=\"14.00\" text-anchor=\"middle\" x=\"252\" y=\"-114.3\">(None, 32)</text>\n<polyline fill=\"none\" points=\"212,-106.5 292,-106.5 \" stroke=\"#000000\"/>\n<text fill=\"#000000\" font-family=\"Times,serif\" font-size=\"14.00\" text-anchor=\"middle\" x=\"252\" y=\"-91.3\">(None, 8)</text>\n</g>\n<!-- 139678413647656&#45;&gt;139678407171096 -->\n<g class=\"edge\" id=\"edge3\">\n<title>139678413647656-&gt;139678407171096</title>\n<path d=\"M166,-166.3799C166,-158.1745 166,-148.7679 166,-139.8786\" fill=\"none\" stroke=\"#000000\"/>\n<polygon fill=\"#000000\" points=\"169.5001,-139.784 166,-129.784 162.5001,-139.784 169.5001,-139.784\" stroke=\"#000000\"/>\n</g>\n<!-- 139678405679200 -->\n<g class=\"node\" id=\"node5\">\n<title>139678405679200</title>\n<polygon fill=\"none\" points=\"44,-.5 44,-46.5 288,-46.5 288,-.5 44,-.5\" stroke=\"#000000\"/>\n<text fill=\"#000000\" font-family=\"Times,serif\" font-size=\"14.00\" text-anchor=\"middle\" x=\"101\" y=\"-19.8\">dense_59: Dense</text>\n<polyline fill=\"none\" points=\"158,-.5 158,-46.5 \" stroke=\"#000000\"/>\n<text fill=\"#000000\" font-family=\"Times,serif\" font-size=\"14.00\" text-anchor=\"middle\" x=\"187\" y=\"-31.3\">input:</text>\n<polyline fill=\"none\" points=\"158,-23.5 216,-23.5 \" stroke=\"#000000\"/>\n<text fill=\"#000000\" font-family=\"Times,serif\" font-size=\"14.00\" text-anchor=\"middle\" x=\"187\" y=\"-8.3\">output:</text>\n<polyline fill=\"none\" points=\"216,-.5 216,-46.5 \" stroke=\"#000000\"/>\n<text fill=\"#000000\" font-family=\"Times,serif\" font-size=\"14.00\" text-anchor=\"middle\" x=\"252\" y=\"-31.3\">(None, 8)</text>\n<polyline fill=\"none\" points=\"216,-23.5 288,-23.5 \" stroke=\"#000000\"/>\n<text fill=\"#000000\" font-family=\"Times,serif\" font-size=\"14.00\" text-anchor=\"middle\" x=\"252\" y=\"-8.3\">(None, 3)</text>\n</g>\n<!-- 139678407171096&#45;&gt;139678405679200 -->\n<g class=\"edge\" id=\"edge4\">\n<title>139678407171096-&gt;139678405679200</title>\n<path d=\"M166,-83.3799C166,-75.1745 166,-65.7679 166,-56.8786\" fill=\"none\" stroke=\"#000000\"/>\n<polygon fill=\"#000000\" points=\"169.5001,-56.784 166,-46.784 162.5001,-56.784 169.5001,-56.784\" stroke=\"#000000\"/>\n</g>\n</g>\n</svg>"
          },
          "metadata": {
            "tags": []
          },
          "execution_count": 148
        }
      ]
    },
    {
      "cell_type": "code",
      "metadata": {
        "id": "fjS_XGoi6oSz",
        "colab_type": "code",
        "colab": {
          "base_uri": "https://localhost:8080/",
          "height": 1000
        },
        "outputId": "f1dfe001-105f-4de7-de31-bcc2d3c3d41c"
      },
      "source": [
        "#4 모델컴파일 학습과정 설정하기\n",
        "# loss 현재 가중치 세트 평가하는데 사용한 손실 함수.\n",
        "# optimizer 최적의 가중치 검색하는데 사용되는 최적화 알고리즘 효율적인 경사 하강법 알고리즘 중 하나인 'adam'을 사용\n",
        "# metrics 평가 척도를 나타내며 분류 문제에서는 일반적으로 'accuracy'으로 지정\n",
        "\n",
        "model.compile(loss='categorical_crossentropy', optimizer='adam', metrics=['accuracy'])\n",
        "# 모델 시각화\n",
        "from IPython.display import SVG\n",
        "from keras.utils.vis_utils import model_to_dot\n",
        "%matplotlib inline\n",
        "SVG(model_to_dot(model, show_shapes=True, dpi = 60).create(prog='dot', format='svg'))\n",
        "\n",
        "\n",
        "#5 모델 학습시키기\n",
        "from keras.callbacks import EarlyStopping\n",
        "early_stopping = EarlyStopping(patience = 50) # 조기종료 콜백함수 정의\n",
        "hist= model.fit(x_train, y_train, epochs=1000, batch_size=50,validation_data=(x_val, y_val),callbacks=[early_stopping])\n"
      ],
      "execution_count": 151,
      "outputs": [
        {
          "output_type": "stream",
          "text": [
            "Train on 200 samples, validate on 20 samples\n",
            "Epoch 1/1000\n",
            "200/200 [==============================] - 3s 13ms/step - loss: 0.1482 - accuracy: 0.9250 - val_loss: 0.2956 - val_accuracy: 0.9500\n",
            "Epoch 2/1000\n",
            "200/200 [==============================] - 2s 10ms/step - loss: 0.2602 - accuracy: 0.9300 - val_loss: 0.0269 - val_accuracy: 1.0000\n",
            "Epoch 3/1000\n",
            "200/200 [==============================] - 2s 10ms/step - loss: 0.1175 - accuracy: 0.9600 - val_loss: 0.0537 - val_accuracy: 1.0000\n",
            "Epoch 4/1000\n",
            "200/200 [==============================] - 2s 10ms/step - loss: 0.1427 - accuracy: 0.9450 - val_loss: 0.0578 - val_accuracy: 1.0000\n",
            "Epoch 5/1000\n",
            "200/200 [==============================] - 2s 10ms/step - loss: 0.1106 - accuracy: 0.9600 - val_loss: 0.0559 - val_accuracy: 1.0000\n",
            "Epoch 6/1000\n",
            "200/200 [==============================] - 2s 10ms/step - loss: 0.1227 - accuracy: 0.9500 - val_loss: 0.0462 - val_accuracy: 1.0000\n",
            "Epoch 7/1000\n",
            "200/200 [==============================] - 2s 10ms/step - loss: 0.1078 - accuracy: 0.9550 - val_loss: 0.0430 - val_accuracy: 1.0000\n",
            "Epoch 8/1000\n",
            "200/200 [==============================] - 2s 11ms/step - loss: 0.1108 - accuracy: 0.9500 - val_loss: 0.0493 - val_accuracy: 1.0000\n",
            "Epoch 9/1000\n",
            "200/200 [==============================] - 2s 10ms/step - loss: 0.1131 - accuracy: 0.9450 - val_loss: 0.0475 - val_accuracy: 1.0000\n",
            "Epoch 10/1000\n",
            "200/200 [==============================] - 2s 10ms/step - loss: 0.1037 - accuracy: 0.9550 - val_loss: 0.0480 - val_accuracy: 1.0000\n",
            "Epoch 11/1000\n",
            "200/200 [==============================] - 2s 10ms/step - loss: 0.1077 - accuracy: 0.9550 - val_loss: 0.0442 - val_accuracy: 1.0000\n",
            "Epoch 12/1000\n",
            "200/200 [==============================] - 2s 10ms/step - loss: 0.1066 - accuracy: 0.9600 - val_loss: 0.0597 - val_accuracy: 1.0000\n",
            "Epoch 13/1000\n",
            "200/200 [==============================] - 2s 10ms/step - loss: 0.1056 - accuracy: 0.9600 - val_loss: 0.0562 - val_accuracy: 1.0000\n",
            "Epoch 14/1000\n",
            "200/200 [==============================] - 2s 10ms/step - loss: 0.1045 - accuracy: 0.9550 - val_loss: 0.0422 - val_accuracy: 1.0000\n",
            "Epoch 15/1000\n",
            "200/200 [==============================] - 2s 10ms/step - loss: 0.1057 - accuracy: 0.9550 - val_loss: 0.0396 - val_accuracy: 1.0000\n",
            "Epoch 16/1000\n",
            "200/200 [==============================] - 2s 11ms/step - loss: 0.1042 - accuracy: 0.9600 - val_loss: 0.0549 - val_accuracy: 1.0000\n",
            "Epoch 17/1000\n",
            "200/200 [==============================] - 2s 10ms/step - loss: 0.1037 - accuracy: 0.9600 - val_loss: 0.0551 - val_accuracy: 1.0000\n",
            "Epoch 18/1000\n",
            "200/200 [==============================] - 2s 10ms/step - loss: 0.1034 - accuracy: 0.9550 - val_loss: 0.0456 - val_accuracy: 1.0000\n",
            "Epoch 19/1000\n",
            "200/200 [==============================] - 2s 10ms/step - loss: 0.1028 - accuracy: 0.9600 - val_loss: 0.0444 - val_accuracy: 1.0000\n",
            "Epoch 20/1000\n",
            "200/200 [==============================] - 2s 10ms/step - loss: 0.1021 - accuracy: 0.9600 - val_loss: 0.0550 - val_accuracy: 1.0000\n",
            "Epoch 21/1000\n",
            "200/200 [==============================] - 2s 10ms/step - loss: 0.1032 - accuracy: 0.9600 - val_loss: 0.0531 - val_accuracy: 1.0000\n",
            "Epoch 22/1000\n",
            "200/200 [==============================] - 2s 10ms/step - loss: 0.1026 - accuracy: 0.9550 - val_loss: 0.0448 - val_accuracy: 1.0000\n",
            "Epoch 23/1000\n",
            "200/200 [==============================] - 2s 11ms/step - loss: 0.1065 - accuracy: 0.9550 - val_loss: 0.0384 - val_accuracy: 1.0000\n",
            "Epoch 24/1000\n",
            "200/200 [==============================] - 2s 10ms/step - loss: 0.1015 - accuracy: 0.9600 - val_loss: 0.0577 - val_accuracy: 1.0000\n",
            "Epoch 25/1000\n",
            "200/200 [==============================] - 2s 10ms/step - loss: 0.1039 - accuracy: 0.9650 - val_loss: 0.0612 - val_accuracy: 1.0000\n",
            "Epoch 26/1000\n",
            "200/200 [==============================] - 2s 10ms/step - loss: 0.1048 - accuracy: 0.9650 - val_loss: 0.0384 - val_accuracy: 1.0000\n",
            "Epoch 27/1000\n",
            "200/200 [==============================] - 2s 10ms/step - loss: 0.1045 - accuracy: 0.9550 - val_loss: 0.0472 - val_accuracy: 1.0000\n",
            "Epoch 28/1000\n",
            "200/200 [==============================] - 2s 10ms/step - loss: 0.1027 - accuracy: 0.9500 - val_loss: 0.0448 - val_accuracy: 1.0000\n",
            "Epoch 29/1000\n",
            "200/200 [==============================] - 2s 10ms/step - loss: 0.1023 - accuracy: 0.9550 - val_loss: 0.0563 - val_accuracy: 1.0000\n",
            "Epoch 30/1000\n",
            "200/200 [==============================] - 2s 10ms/step - loss: 0.1019 - accuracy: 0.9600 - val_loss: 0.0553 - val_accuracy: 1.0000\n",
            "Epoch 31/1000\n",
            "200/200 [==============================] - 2s 10ms/step - loss: 0.1009 - accuracy: 0.9550 - val_loss: 0.0431 - val_accuracy: 1.0000\n",
            "Epoch 32/1000\n",
            "200/200 [==============================] - 2s 10ms/step - loss: 0.1024 - accuracy: 0.9600 - val_loss: 0.0420 - val_accuracy: 1.0000\n",
            "Epoch 33/1000\n",
            "200/200 [==============================] - 2s 10ms/step - loss: 0.1020 - accuracy: 0.9550 - val_loss: 0.0547 - val_accuracy: 1.0000\n",
            "Epoch 34/1000\n",
            "200/200 [==============================] - 2s 10ms/step - loss: 0.1016 - accuracy: 0.9600 - val_loss: 0.0474 - val_accuracy: 1.0000\n",
            "Epoch 35/1000\n",
            "200/200 [==============================] - 2s 10ms/step - loss: 0.1005 - accuracy: 0.9550 - val_loss: 0.0446 - val_accuracy: 1.0000\n",
            "Epoch 36/1000\n",
            "200/200 [==============================] - 2s 10ms/step - loss: 0.1007 - accuracy: 0.9600 - val_loss: 0.0438 - val_accuracy: 1.0000\n",
            "Epoch 37/1000\n",
            "200/200 [==============================] - 2s 11ms/step - loss: 0.1021 - accuracy: 0.9550 - val_loss: 0.0566 - val_accuracy: 1.0000\n",
            "Epoch 38/1000\n",
            "200/200 [==============================] - 2s 10ms/step - loss: 0.1013 - accuracy: 0.9600 - val_loss: 0.0497 - val_accuracy: 1.0000\n",
            "Epoch 39/1000\n",
            "200/200 [==============================] - 2s 10ms/step - loss: 0.0998 - accuracy: 0.9550 - val_loss: 0.0396 - val_accuracy: 1.0000\n",
            "Epoch 40/1000\n",
            "200/200 [==============================] - 2s 10ms/step - loss: 0.1020 - accuracy: 0.9550 - val_loss: 0.0485 - val_accuracy: 1.0000\n",
            "Epoch 41/1000\n",
            "200/200 [==============================] - 2s 10ms/step - loss: 0.1002 - accuracy: 0.9550 - val_loss: 0.0481 - val_accuracy: 1.0000\n",
            "Epoch 42/1000\n",
            "200/200 [==============================] - 2s 10ms/step - loss: 0.0996 - accuracy: 0.9550 - val_loss: 0.0461 - val_accuracy: 1.0000\n",
            "Epoch 43/1000\n",
            "200/200 [==============================] - 2s 10ms/step - loss: 0.1008 - accuracy: 0.9550 - val_loss: 0.0440 - val_accuracy: 1.0000\n",
            "Epoch 44/1000\n",
            "200/200 [==============================] - 2s 10ms/step - loss: 0.0995 - accuracy: 0.9600 - val_loss: 0.0476 - val_accuracy: 1.0000\n",
            "Epoch 45/1000\n",
            "200/200 [==============================] - 2s 10ms/step - loss: 0.1020 - accuracy: 0.9600 - val_loss: 0.0584 - val_accuracy: 1.0000\n",
            "Epoch 46/1000\n",
            "200/200 [==============================] - 2s 10ms/step - loss: 0.1000 - accuracy: 0.9600 - val_loss: 0.0398 - val_accuracy: 1.0000\n",
            "Epoch 47/1000\n",
            "200/200 [==============================] - 2s 10ms/step - loss: 0.1004 - accuracy: 0.9550 - val_loss: 0.0430 - val_accuracy: 1.0000\n",
            "Epoch 48/1000\n",
            "200/200 [==============================] - 2s 10ms/step - loss: 0.0995 - accuracy: 0.9550 - val_loss: 0.0472 - val_accuracy: 1.0000\n",
            "Epoch 49/1000\n",
            "200/200 [==============================] - 2s 10ms/step - loss: 0.0996 - accuracy: 0.9600 - val_loss: 0.0505 - val_accuracy: 1.0000\n",
            "Epoch 50/1000\n",
            "200/200 [==============================] - 2s 10ms/step - loss: 0.0996 - accuracy: 0.9550 - val_loss: 0.0484 - val_accuracy: 1.0000\n",
            "Epoch 51/1000\n",
            "200/200 [==============================] - 2s 10ms/step - loss: 0.1012 - accuracy: 0.9550 - val_loss: 0.0360 - val_accuracy: 1.0000\n",
            "Epoch 52/1000\n",
            "200/200 [==============================] - 2s 11ms/step - loss: 0.0993 - accuracy: 0.9600 - val_loss: 0.0494 - val_accuracy: 1.0000\n"
          ],
          "name": "stdout"
        }
      ]
    },
    {
      "cell_type": "code",
      "metadata": {
        "id": "wob3YY2vh3qE",
        "colab_type": "code",
        "colab": {
          "base_uri": "https://localhost:8080/",
          "height": 297
        },
        "outputId": "64d4346e-98a7-4ae2-8da2-7a997357fad5"
      },
      "source": [
        "# 5. 모델 학습 과정 표시하기\n",
        "%matplotlib inline\n",
        "import matplotlib.pyplot as plt\n",
        "plt.figure(figsize=(1,1))\n",
        "\n",
        "fig, loss_ax = plt.subplots()\n",
        "\n",
        "acc_ax = loss_ax.twinx()\n",
        "\n",
        "loss_ax.plot(hist.history['loss'], 'y', label='train loss')\n",
        "loss_ax.plot(hist.history['val_loss'], 'r', label='val loss')\n",
        "\n",
        "acc_ax.plot(hist.history['accuracy'], 'b', label='train accuracy')\n",
        "acc_ax.plot(hist.history['val_accuracy'], 'g', label='val accuracy')\n",
        "\n",
        "loss_ax.set_xlabel('epoch')\n",
        "loss_ax.set_ylabel('loss')\n",
        "acc_ax.set_ylabel('accuray')\n",
        "\n",
        "loss_ax.legend(loc='upper left')\n",
        "acc_ax.legend(loc='lower left')\n",
        "\n",
        "plt.show()"
      ],
      "execution_count": 152,
      "outputs": [
        {
          "output_type": "display_data",
          "data": {
            "text/plain": [
              "<Figure size 72x72 with 0 Axes>"
            ]
          },
          "metadata": {
            "tags": []
          }
        },
        {
          "output_type": "display_data",
          "data": {
            "image/png": "[encoded data removed]",
            "text/plain": [
              "<Figure size 432x288 with 2 Axes>"
            ]
          },
          "metadata": {
            "tags": [],
            "needs_background": "light"
          }
        }
      ]
    },
    {
      "cell_type": "code",
      "metadata": {
        "id": "ZL3vNGBOlOak",
        "colab_type": "code",
        "colab": {
          "base_uri": "https://localhost:8080/",
          "height": 213
        },
        "outputId": "34a692a4-8953-4e03-c38c-1282960263c1"
      },
      "source": [
        "# 학습 과정 살펴보기\n",
        "print('## training loss and acc ##')\n",
        "print(hist.history['loss'])\n",
        "print(hist.history['accuracy'])\n",
        "print(hist.history['val_loss'])\n",
        "print(hist.history['val_accuracy'])\n",
        "\n",
        "#6모델 평가하기\n",
        "scores = model.evaluate(x_test, y_test)\n",
        "print('loss : ' + str(scores[0]))\n",
        "print('accuray : ' + str(scores[1]))\n",
        "print(\"acc: %f\" %(scores[1]*100))\n",
        "print('')"
      ],
      "execution_count": 153,
      "outputs": [
        {
          "output_type": "stream",
          "text": [
            "## training loss and acc ##\n",
            "[0.14822698757052422, 0.26017432659864426, 0.11746567487716675, 0.14273601770401, 0.11060893535614014, 0.12266362830996513, 0.10775282420217991, 0.11078295111656189, 0.1130518727004528, 0.10366900265216827, 0.10768212750554085, 0.10657569579780102, 0.1055920347571373, 0.10454017482697964, 0.10567997954785824, 0.10417811572551727, 0.10374049469828606, 0.10338724218308926, 0.10279167490079999, 0.10209682304412127, 0.1031905971467495, 0.10255683399736881, 0.10646100342273712, 0.10145442560315132, 0.10390708968043327, 0.10483778174966574, 0.10447564907371998, 0.10270446725189686, 0.10227414779365063, 0.10185880120843649, 0.1008691880851984, 0.10238934680819511, 0.10202448256313801, 0.10155917145311832, 0.1005277531221509, 0.1007213732227683, 0.10207735281437635, 0.10133431944996119, 0.09981347341090441, 0.10204642359167337, 0.10020836442708969, 0.09959992580115795, 0.10078540444374084, 0.09952526586130261, 0.10199180338531733, 0.10002282727509737, 0.10039981175214052, 0.09951907489448786, 0.09960398636758327, 0.09960294421762228, 0.10123625583946705, 0.09926794469356537]\n",
            "[0.925, 0.93, 0.96, 0.945, 0.96, 0.95, 0.955, 0.95, 0.945, 0.955, 0.955, 0.96, 0.96, 0.955, 0.955, 0.96, 0.96, 0.955, 0.96, 0.96, 0.96, 0.955, 0.955, 0.96, 0.965, 0.965, 0.955, 0.95, 0.955, 0.96, 0.955, 0.96, 0.955, 0.96, 0.955, 0.96, 0.955, 0.96, 0.955, 0.955, 0.955, 0.955, 0.955, 0.96, 0.96, 0.96, 0.955, 0.955, 0.96, 0.955, 0.955, 0.96]\n",
            "[0.29564979672431946, 0.026929670944809914, 0.053671944886446, 0.057816315442323685, 0.055887769907712936, 0.04619345813989639, 0.04304911941289902, 0.04927658289670944, 0.047483962029218674, 0.04797763749957085, 0.044153425842523575, 0.05968942493200302, 0.056179892271757126, 0.042200904339551926, 0.03960984945297241, 0.05491845682263374, 0.05513044446706772, 0.04559868574142456, 0.0444176085293293, 0.05496806651353836, 0.05311550945043564, 0.04480802267789841, 0.03840911015868187, 0.057720351964235306, 0.061200570315122604, 0.03841235488653183, 0.04715019464492798, 0.044813208281993866, 0.056317783892154694, 0.05531974881887436, 0.043059609830379486, 0.041968025267124176, 0.05466248467564583, 0.047430090606212616, 0.0445784255862236, 0.04376596212387085, 0.0565754659473896, 0.04970052093267441, 0.03959963470697403, 0.04850209504365921, 0.04811076074838638, 0.04605652764439583, 0.043996527791023254, 0.047619979828596115, 0.05835415795445442, 0.039790354669094086, 0.04303089529275894, 0.047204747796058655, 0.05048400163650513, 0.048366986215114594, 0.03602955490350723, 0.049369193613529205]\n",
            "[0.949999988079071, 1.0, 1.0, 1.0, 1.0, 1.0, 1.0, 1.0, 1.0, 1.0, 1.0, 1.0, 1.0, 1.0, 1.0, 1.0, 1.0, 1.0, 1.0, 1.0, 1.0, 1.0, 1.0, 1.0, 1.0, 1.0, 1.0, 1.0, 1.0, 1.0, 1.0, 1.0, 1.0, 1.0, 1.0, 1.0, 1.0, 1.0, 1.0, 1.0, 1.0, 1.0, 1.0, 1.0, 1.0, 1.0, 1.0, 1.0, 1.0, 1.0, 1.0, 1.0]\n",
            "50/50 [==============================] - 0s 3ms/step\n",
            "loss : 0.052498788982629774\n",
            "accuray : 0.9800000190734863\n",
            "acc: 98.000002\n",
            "\n"
          ],
          "name": "stdout"
        }
      ]
    }
  ]
}